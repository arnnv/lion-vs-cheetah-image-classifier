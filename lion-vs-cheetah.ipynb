{
 "cells": [
  {
   "cell_type": "code",
   "execution_count": null,
   "metadata": {},
   "outputs": [],
   "source": [
    "# DATASET LINK: https://www.kaggle.com/datasets/mikoajfish99/lions-or-cheetahs-image-classification"
   ]
  },
  {
   "cell_type": "code",
   "execution_count": 61,
   "metadata": {},
   "outputs": [],
   "source": [
    "import os\n",
    "import random\n",
    "import shutil\n",
    "import numpy as np\n",
    "import tensorflow as tf\n",
    "from tensorflow.keras.preprocessing.image import ImageDataGenerator\n",
    "from tensorflow.keras.applications import InceptionV3\n",
    "from tensorflow.keras.optimizers import RMSprop"
   ]
  },
  {
   "cell_type": "code",
   "execution_count": 43,
   "metadata": {},
   "outputs": [],
   "source": [
    "root_dir = './data/'\n",
    "\n",
    "if os.path.exists(root_dir):\n",
    "    shutil.rmtree(root_dir)\n",
    "\n",
    "def create_train_val_dirs(root_dir):\n",
    "    os.makedirs(os.path.join(root_dir, 'training/cheetahs'))\n",
    "    os.makedirs(os.path.join(root_dir, 'training/lions'))\n",
    "    os.makedirs(os.path.join(root_dir, 'validation/cheetahs'))\n",
    "    os.makedirs(os.path.join(root_dir, 'validation/lions'))\n",
    "\n",
    "create_train_val_dirs(root_dir)"
   ]
  },
  {
   "cell_type": "code",
   "execution_count": 44,
   "metadata": {},
   "outputs": [
    {
     "name": "stdout",
     "output_type": "stream",
     "text": [
      "./data/validation\n",
      "./data/training\n",
      "./data/validation/cheetahs\n",
      "./data/validation/lions\n",
      "./data/training/cheetahs\n",
      "./data/training/lions\n"
     ]
    }
   ],
   "source": [
    "def print_subdirectories(root_dir):\n",
    "    for root, dirs, files in os.walk(root_dir):\n",
    "        for name in dirs:\n",
    "            print(os.path.join(root, name))\n",
    "\n",
    "print_subdirectories(root_dir)"
   ]
  },
  {
   "cell_type": "code",
   "execution_count": 45,
   "metadata": {},
   "outputs": [],
   "source": [
    "def split_data(SOURCE_DIR, TRAIN_DIR, VALIDATION_DIR, SPLIT_SIZE):\n",
    "\n",
    "    all_files = []\n",
    "\n",
    "    for file in os.listdir(SOURCE_DIR):\n",
    "        if os.path.getsize(os.path.join(SOURCE_DIR, file)) > 0:\n",
    "            all_files.append(file)\n",
    "        else:\n",
    "            print(f'{file} is zero length, so ignoring')\n",
    "    \n",
    "    all_files = random.sample(all_files, len(all_files))\n",
    "\n",
    "    SPLIT_POINT = int(len(all_files)*SPLIT_SIZE)\n",
    "\n",
    "    train_files = all_files[:SPLIT_POINT]\n",
    "    validation_files = all_files[SPLIT_POINT:]\n",
    "\n",
    "    for file in train_files:\n",
    "        src = os.path.join(SOURCE_DIR, file)\n",
    "        dest = os.path.join(TRAIN_DIR, file)\n",
    "        copyfile(src, dest)\n",
    "    \n",
    "    for file in validation_files:\n",
    "        src = os.path.join(SOURCE_DIR, file)\n",
    "        dest = os.path.join(VALIDATION_DIR, file)\n",
    "        copyfile(src, dest)"
   ]
  },
  {
   "cell_type": "code",
   "execution_count": 46,
   "metadata": {},
   "outputs": [
    {
     "name": "stdout",
     "output_type": "stream",
     "text": [
      "Original cheetah images: 100\n",
      "Original lion images: 100\n",
      "\n",
      "\n",
      "\n",
      "Training cheetah images: 90\n",
      "Training lion images: 90\n",
      "Validation cheetah images: 10\n",
      "Validation lion images: 10\n"
     ]
    }
   ],
   "source": [
    "CHEETAH_SOURCE_DIR = './images/Cheetahs'\n",
    "LION_SOURCE_DIR = './images/Lions'\n",
    "\n",
    "CHEETAH_TRAIN_DIR = './data/training/cheetahs'\n",
    "LION_TRAIN_DIR = './data/training/lions'\n",
    "\n",
    "CHEETAH_VALIDATION_DIR = './data/validation/cheetahs'\n",
    "LION_VALIDATION_DIR = './data/validation/lions'\n",
    "\n",
    "split_size = 0.9\n",
    "\n",
    "split_data(CHEETAH_SOURCE_DIR, CHEETAH_TRAIN_DIR, CHEETAH_VALIDATION_DIR, split_size)\n",
    "split_data(LION_SOURCE_DIR, LION_TRAIN_DIR, LION_VALIDATION_DIR, split_size)\n",
    "\n",
    "print(f'Original cheetah images: {len(os.listdir(CHEETAH_SOURCE_DIR))}')\n",
    "print(f'Original lion images: {len(os.listdir(LION_SOURCE_DIR))}')\n",
    "print('\\n\\n')\n",
    "print(f'Training cheetah images: {len(os.listdir(CHEETAH_TRAIN_DIR))}')\n",
    "print(f'Training lion images: {len(os.listdir(LION_TRAIN_DIR))}')\n",
    "print(f'Validation cheetah images: {len(os.listdir(CHEETAH_VALIDATION_DIR))}')\n",
    "print(f'Validation lion images: {len(os.listdir(LION_VALIDATION_DIR))}')"
   ]
  },
  {
   "cell_type": "code",
   "execution_count": 51,
   "metadata": {},
   "outputs": [],
   "source": [
    "def train_val_gens(TRAINING_DIR, VALIDATION_DIR):\n",
    "\n",
    "    train_datagen = ImageDataGenerator(\n",
    "        rescale=1./255,\n",
    "        rotation_range=40,\n",
    "        width_shift_range=0.2,\n",
    "        height_shift_range=0.2,\n",
    "        shear_range=0.2,\n",
    "        zoom_range=0.2,\n",
    "        horizontal_flip=True,\n",
    "        fill_mode='nearest'\n",
    "    )\n",
    "\n",
    "    train_generator = train_datagen.flow_from_directory(\n",
    "        TRAINING_DIR,\n",
    "        batch_size=20,\n",
    "        class_mode='binary',\n",
    "        target_size=(150, 150)\n",
    "    )\n",
    "\n",
    "    validation_datagen = ImageDataGenerator(rescale=1./255)\n",
    "\n",
    "    validation_generator = validation_datagen.flow_from_directory(\n",
    "        VALIDATION_DIR,\n",
    "        batch_size=20,\n",
    "        class_mode='binary',\n",
    "        target_size=(150, 150)\n",
    "    )\n",
    "\n",
    "    return train_generator, validation_generator"
   ]
  },
  {
   "cell_type": "code",
   "execution_count": 52,
   "metadata": {},
   "outputs": [
    {
     "name": "stdout",
     "output_type": "stream",
     "text": [
      "Found 180 images belonging to 2 classes.\n",
      "Found 20 images belonging to 2 classes.\n"
     ]
    }
   ],
   "source": [
    "train_generator, validation_generator = train_val_gens('./data/training', './data/validation')"
   ]
  },
  {
   "cell_type": "code",
   "execution_count": 57,
   "metadata": {},
   "outputs": [],
   "source": [
    "def create_model():\n",
    "\n",
    "    pre_trained_model = InceptionV3(input_shape=(150, 150, 3),\n",
    "                                    include_top=False,\n",
    "                                    weights='imagenet')\n",
    "    \n",
    "    for layer in pre_trained_model.layers:\n",
    "        layer.trainable = False\n",
    "\n",
    "    last_layer = pre_trained_model.get_layer('mixed7')\n",
    "    last_output = last_layer.output\n",
    "\n",
    "    x = tf.keras.layers.Flatten()(last_output)\n",
    "    x = tf.keras.layers.Dense(1024, activation='relu')(x)\n",
    "    x = tf.keras.layers.Dropout(0.2)(x)\n",
    "    x = tf.keras.layers.Dense(1, activation='sigmoid')(x)\n",
    "\n",
    "    model = tf.keras.models.Model(pre_trained_model.input, x)\n",
    "\n",
    "    model.compile(\n",
    "        optimizer=RMSprop(learning_rate=1e-4),\n",
    "        loss='binary_crossentropy',\n",
    "        metrics=['accuracy']\n",
    "    )\n",
    "\n",
    "    return model"
   ]
  },
  {
   "cell_type": "code",
   "execution_count": 60,
   "metadata": {},
   "outputs": [
    {
     "name": "stdout",
     "output_type": "stream",
     "text": [
      "Epoch 1/15\n",
      "\u001b[1m9/9\u001b[0m \u001b[32m━━━━━━━━━━━━━━━━━━━━\u001b[0m\u001b[37m\u001b[0m \u001b[1m8s\u001b[0m 286ms/step - accuracy: 0.4708 - loss: 1.6125 - val_accuracy: 0.8500 - val_loss: 0.3722\n",
      "Epoch 2/15\n",
      "\u001b[1m9/9\u001b[0m \u001b[32m━━━━━━━━━━━━━━━━━━━━\u001b[0m\u001b[37m\u001b[0m \u001b[1m1s\u001b[0m 53ms/step - accuracy: 0.9814 - loss: 0.1206 - val_accuracy: 0.9000 - val_loss: 0.2838\n",
      "Epoch 3/15\n",
      "\u001b[1m9/9\u001b[0m \u001b[32m━━━━━━━━━━━━━━━━━━━━\u001b[0m\u001b[37m\u001b[0m \u001b[1m1s\u001b[0m 47ms/step - accuracy: 0.9903 - loss: 0.0424 - val_accuracy: 0.8500 - val_loss: 0.2678\n",
      "Epoch 4/15\n",
      "\u001b[1m9/9\u001b[0m \u001b[32m━━━━━━━━━━━━━━━━━━━━\u001b[0m\u001b[37m\u001b[0m \u001b[1m1s\u001b[0m 52ms/step - accuracy: 1.0000 - loss: 0.0233 - val_accuracy: 0.9000 - val_loss: 0.2536\n",
      "Epoch 5/15\n",
      "\u001b[1m9/9\u001b[0m \u001b[32m━━━━━━━━━━━━━━━━━━━━\u001b[0m\u001b[37m\u001b[0m \u001b[1m1s\u001b[0m 51ms/step - accuracy: 0.9957 - loss: 0.0173 - val_accuracy: 0.8500 - val_loss: 0.2659\n",
      "Epoch 6/15\n",
      "\u001b[1m9/9\u001b[0m \u001b[32m━━━━━━━━━━━━━━━━━━━━\u001b[0m\u001b[37m\u001b[0m \u001b[1m1s\u001b[0m 51ms/step - accuracy: 1.0000 - loss: 0.0115 - val_accuracy: 0.8500 - val_loss: 0.2885\n",
      "Epoch 7/15\n",
      "\u001b[1m9/9\u001b[0m \u001b[32m━━━━━━━━━━━━━━━━━━━━\u001b[0m\u001b[37m\u001b[0m \u001b[1m1s\u001b[0m 50ms/step - accuracy: 1.0000 - loss: 0.0051 - val_accuracy: 0.9500 - val_loss: 0.2522\n",
      "Epoch 8/15\n",
      "\u001b[1m9/9\u001b[0m \u001b[32m━━━━━━━━━━━━━━━━━━━━\u001b[0m\u001b[37m\u001b[0m \u001b[1m1s\u001b[0m 49ms/step - accuracy: 1.0000 - loss: 0.0043 - val_accuracy: 0.9500 - val_loss: 0.2520\n",
      "Epoch 9/15\n",
      "\u001b[1m9/9\u001b[0m \u001b[32m━━━━━━━━━━━━━━━━━━━━\u001b[0m\u001b[37m\u001b[0m \u001b[1m1s\u001b[0m 51ms/step - accuracy: 1.0000 - loss: 0.0028 - val_accuracy: 0.9500 - val_loss: 0.2587\n",
      "Epoch 10/15\n",
      "\u001b[1m9/9\u001b[0m \u001b[32m━━━━━━━━━━━━━━━━━━━━\u001b[0m\u001b[37m\u001b[0m \u001b[1m1s\u001b[0m 50ms/step - accuracy: 1.0000 - loss: 0.0019 - val_accuracy: 0.9000 - val_loss: 0.2391\n",
      "Epoch 11/15\n",
      "\u001b[1m9/9\u001b[0m \u001b[32m━━━━━━━━━━━━━━━━━━━━\u001b[0m\u001b[37m\u001b[0m \u001b[1m1s\u001b[0m 50ms/step - accuracy: 1.0000 - loss: 0.0017 - val_accuracy: 0.9500 - val_loss: 0.2391\n",
      "Epoch 12/15\n",
      "\u001b[1m9/9\u001b[0m \u001b[32m━━━━━━━━━━━━━━━━━━━━\u001b[0m\u001b[37m\u001b[0m \u001b[1m1s\u001b[0m 49ms/step - accuracy: 1.0000 - loss: 0.0016 - val_accuracy: 0.9500 - val_loss: 0.2345\n",
      "Epoch 13/15\n",
      "\u001b[1m9/9\u001b[0m \u001b[32m━━━━━━━━━━━━━━━━━━━━\u001b[0m\u001b[37m\u001b[0m \u001b[1m1s\u001b[0m 52ms/step - accuracy: 1.0000 - loss: 0.0012 - val_accuracy: 0.9000 - val_loss: 0.2498\n",
      "Epoch 14/15\n",
      "\u001b[1m9/9\u001b[0m \u001b[32m━━━━━━━━━━━━━━━━━━━━\u001b[0m\u001b[37m\u001b[0m \u001b[1m1s\u001b[0m 49ms/step - accuracy: 1.0000 - loss: 0.0011 - val_accuracy: 0.9000 - val_loss: 0.2461\n",
      "Epoch 15/15\n",
      "\u001b[1m9/9\u001b[0m \u001b[32m━━━━━━━━━━━━━━━━━━━━\u001b[0m\u001b[37m\u001b[0m \u001b[1m1s\u001b[0m 55ms/step - accuracy: 1.0000 - loss: 0.0011 - val_accuracy: 0.9000 - val_loss: 0.2327\n"
     ]
    }
   ],
   "source": [
    "model = create_model()\n",
    "\n",
    "history = model.fit(train_generator,\n",
    "                    epochs=15,\n",
    "                    validation_data=validation_generator,\n",
    "                    verbose=1\n",
    "                    )"
   ]
  }
 ],
 "metadata": {
  "kernelspec": {
   "display_name": "py311",
   "language": "python",
   "name": "python3"
  },
  "language_info": {
   "codemirror_mode": {
    "name": "ipython",
    "version": 3
   },
   "file_extension": ".py",
   "mimetype": "text/x-python",
   "name": "python",
   "nbconvert_exporter": "python",
   "pygments_lexer": "ipython3",
   "version": "3.11.9"
  }
 },
 "nbformat": 4,
 "nbformat_minor": 2
}
